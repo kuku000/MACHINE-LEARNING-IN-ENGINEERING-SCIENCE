{
 "cells": [
  {
   "cell_type": "code",
   "execution_count": 1,
   "id": "1c165e20-3d25-4bda-9a34-c61fbfa2713c",
   "metadata": {},
   "outputs": [],
   "source": [
    "import pandas as pd\n",
    "import numpy as np\n",
    "import matplotlib.pyplot as plt"
   ]
  },
  {
   "cell_type": "code",
   "execution_count": 2,
   "id": "e1a413a0-e23f-487a-a771-67b80e81dfc8",
   "metadata": {},
   "outputs": [],
   "source": [
    "train = pd.read_csv(\"train.csv\")\n",
    "val = pd.read_csv(\"val.csv\")\n",
    "test = pd.read_csv(\"test.csv\")"
   ]
  },
  {
   "cell_type": "code",
   "execution_count": 3,
   "id": "007791d8-6580-4737-864b-91379d2b94f0",
   "metadata": {},
   "outputs": [],
   "source": [
    "train['Label'].replace(['Excellent',\"good\",\"fair\",\"bad\"],[1,2,3,4] , inplace = True)\n",
    "val['Label'].replace(['Excellent',\"good\",\"fair\",\"bad\"],[1,2,3,4] , inplace = True)"
   ]
  },
  {
   "cell_type": "code",
   "execution_count": 4,
   "id": "ca98f7e3-ae87-4c2c-80e9-5e851500d235",
   "metadata": {},
   "outputs": [
    {
     "data": {
      "text/plain": [
       "<AxesSubplot: >"
      ]
     },
     "execution_count": 4,
     "metadata": {},
     "output_type": "execute_result"
    },
    {
     "data": {
      "image/png": "[encoded data removed]",
      "text/plain": [
       "<Figure size 432x288 with 1 Axes>"
      ]
     },
     "metadata": {
      "needs_background": "light"
     },
     "output_type": "display_data"
    }
   ],
   "source": [
    "x = np.arange(-100,0,0.5)\n",
    "\n",
    "train = train.replace(x,np.nan, inplace = False)\n",
    "train1 = train.dropna(axis=0, how='any', thresh=None, subset=None, inplace=False)\n",
    "train1.shape[0]\n",
    "\n",
    "X_train = train1.drop([\"id\",\"Label\"], axis = 1)\n",
    "y_train = train1[\"Label\"]\n",
    "\n",
    "y_train.hist()"
   ]
  },
  {
   "cell_type": "code",
   "execution_count": 12,
   "id": "4a0eb745-7c4a-431b-8cec-123d5d7b6987",
   "metadata": {},
   "outputs": [
    {
     "name": "stdout",
     "output_type": "stream",
     "text": [
      "6200\n"
     ]
    },
    {
     "data": {
      "text/plain": [
       "<AxesSubplot: >"
      ]
     },
     "execution_count": 12,
     "metadata": {},
     "output_type": "execute_result"
    },
    {
     "data": {
      "image/png": "[encoded data removed]",
      "text/plain": [
       "<Figure size 432x288 with 1 Axes>"
      ]
     },
     "metadata": {
      "needs_background": "light"
     },
     "output_type": "display_data"
    }
   ],
   "source": [
    "val = val.replace(x,np.nan, inplace = False)\n",
    "val1 = val.dropna(axis=0, how='any', thresh=None, subset=None, inplace=False)\n",
    "print(val1.shape[0])\n",
    "\n",
    "X_val = val1.drop([\"id\",\"Label\"], axis = 1)\n",
    "y_val = val1[\"Label\"]\n",
    "val1['Label'].hist()"
   ]
  },
  {
   "cell_type": "code",
   "execution_count": 13,
   "id": "a6e291cf-e28d-4791-ad56-979a4a073d7f",
   "metadata": {},
   "outputs": [],
   "source": [
    "X = pd.concat([X_train,X_val ],axis=0)\n",
    "y= pd.concat([y_train, y_val],axis=0)"
   ]
  },
  {
   "cell_type": "code",
   "execution_count": 15,
   "id": "57191155-ec8b-4072-98ea-edf431a1da0c",
   "metadata": {},
   "outputs": [
    {
     "data": {
      "text/plain": [
       "0       2\n",
       "3       3\n",
       "4       3\n",
       "5       4\n",
       "6       2\n",
       "       ..\n",
       "6195    3\n",
       "6196    2\n",
       "6197    1\n",
       "6198    2\n",
       "6199    2\n",
       "Name: Label, Length: 13900, dtype: int64"
      ]
     },
     "execution_count": 15,
     "metadata": {},
     "output_type": "execute_result"
    }
   ],
   "source": [
    "y"
   ]
  },
  {
   "cell_type": "code",
   "execution_count": 16,
   "id": "3483f1dc-8f5f-47c4-a72a-4a93e6ff4bdf",
   "metadata": {},
   "outputs": [
    {
     "data": {
      "text/plain": [
       "<AxesSubplot: >"
      ]
     },
     "execution_count": 16,
     "metadata": {},
     "output_type": "execute_result"
    },
    {
     "data": {
      "image/png": "[encoded data removed]",
      "text/plain": [
       "<Figure size 432x288 with 1 Axes>"
      ]
     },
     "metadata": {
      "needs_background": "light"
     },
     "output_type": "display_data"
    }
   ],
   "source": [
    "from imblearn.over_sampling import SMOTE\n",
    "X, y = SMOTE().fit_resample(X, y)\n",
    "\n",
    "y.hist()"
   ]
  },
  {
   "cell_type": "code",
   "execution_count": 19,
   "id": "c050273e-5b7b-4621-9512-fdf4a5f56fac",
   "metadata": {},
   "outputs": [
    {
     "name": "stdout",
     "output_type": "stream",
     "text": [
      "1.0\n",
      "1.0\n"
     ]
    }
   ],
   "source": [
    "from sklearn.ensemble import RandomForestClassifier\n",
    "from sklearn.model_selection import cross_val_score\n",
    "\n",
    "randomForestModel = RandomForestClassifier(random_state = 42, n_estimators= 100,max_features = 30)\n",
    "scores = cross_val_score(randomForestModel,X,y,cv = 7,scoring = 'accuracy')\n",
    "\n",
    "randomForestModel.fit(X, y)\n",
    "pred=randomForestModel.predict(X_val)\n",
    "print(randomForestModel.score(X_train, y_train))\n",
    "print(randomForestModel.score(X_val,y_val))"
   ]
  },
  {
   "cell_type": "code",
   "execution_count": 20,
   "id": "844197d1-fce6-4c90-a6b6-84d6b80d21d8",
   "metadata": {},
   "outputs": [
    {
     "data": {
      "text/plain": [
       "array([0.76764907, 0.76688378, 0.83647583, 0.8950977 , 0.91429551,\n",
       "       0.91772369, 0.9026397 ])"
      ]
     },
     "execution_count": 20,
     "metadata": {},
     "output_type": "execute_result"
    }
   ],
   "source": [
    "scores"
   ]
  },
  {
   "cell_type": "code",
   "execution_count": 21,
   "id": "138e2e47-453b-47f8-a4bf-d8310a875f81",
   "metadata": {},
   "outputs": [],
   "source": [
    "test = test.drop([\"id\"],axis =1)\n",
    "test_RF = test "
   ]
  },
  {
   "cell_type": "code",
   "execution_count": 23,
   "id": "389146aa-41ba-4c26-8dd5-a7943e77df34",
   "metadata": {},
   "outputs": [],
   "source": [
    "y_pred = randomForestModel.predict(test_RF)\n",
    "y_pred_pd = pd.DataFrame(data = y_pred, columns = [\"Label\"])\n",
    "y_pred_pd = y_pred_pd.reset_index()\n",
    "y_pred_pd\n",
    "y_pred_pd.to_csv(\"e94084032.csv\", index = False)"
   ]
  },
  {
   "cell_type": "code",
   "execution_count": null,
   "id": "c001e24b-6630-418f-b341-9c3fc929b97b",
   "metadata": {},
   "outputs": [],
   "source": []
  }
 ],
 "metadata": {
  "kernelspec": {
   "display_name": "Python 3 (ipykernel)",
   "language": "python",
   "name": "python3"
  },
  "language_info": {
   "codemirror_mode": {
    "name": "ipython",
    "version": 3
   },
   "file_extension": ".py",
   "mimetype": "text/x-python",
   "name": "python",
   "nbconvert_exporter": "python",
   "pygments_lexer": "ipython3",
   "version": "3.9.7"
  }
 },
 "nbformat": 4,
 "nbformat_minor": 5
}
