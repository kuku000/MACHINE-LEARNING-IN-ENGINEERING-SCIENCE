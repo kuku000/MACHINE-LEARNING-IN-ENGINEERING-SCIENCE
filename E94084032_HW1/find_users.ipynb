{
 "cells": [
  {
   "cell_type": "code",
   "execution_count": 5,
   "id": "012666d2",
   "metadata": {},
   "outputs": [],
   "source": [
    "users = {\n",
    " 6: \"Hicks\", 7: \"Devin\", 8: \"Kate\", 0: \"Hero\",\n",
    " 8: \"Kate\", 9: \"Klein\", 1: \"Dunn\", 3: \"Chi\",\n",
    " 2: \"Sue\", 4: \"Thor\", 5: \"Clive\"\n",
    "}\n",
    "\n",
    "interests = [\n",
    " (0, \"Hadoop\"), (0, \"Big Data\"), (0, \"HBase\"), (0, \"Java\"),\n",
    " (0, \"Spark\"), (0, \"Storm\"), (0, \"Cassandra\"),\n",
    " (1, \"NoSQL\"), (1, \"MongoDB\"), (1, \"Cassandra\"), (1, \"HBase\"),\n",
    " (1, \"Postgres\"), (2, \"Python\"), (2, \"scikit-learn\"), (2, \"scipy\"),\n",
    " (2, \"numpy\"), (2, \"statsmodels\"), (2, \"pandas\"), (3, \"R\"), (3,\n",
    "\"Python\"),\n",
    " (3, \"statistics\"), (3, \"regression\"), (3, \"probability\"),\n",
    " (4, \"machine learning\"), (4, \"regression\"), (4, \"decision trees\"),\n",
    " (4, \"libsvm\"), (5, \"Python\"), (5, \"R\"), (5, \"Java\"), (5, \"C++\"),\n",
    " (5, \"Haskell\"), (5, \"programming languages\"), (6, \"statistics\"),\n",
    " (6, \"probability\"), (6, \"mathematics\"), (6, \"theory\"),\n",
    " (7, \"machine learning\"), (7, \"scikit-learn\"), (7, \"Mahout\"),\n",
    " (7, \"neural networks\"), (8, \"neural networks\"), (8, \"deep learning\"),\n",
    " (8, \"Big Data\"), (8, \"artificial intelligence\"), (9, \"Hadoop\"),\n",
    " (9, \"Java\"), (9, \"MapReduce\"), (9, \"Big Data\")]\n"
   ]
  },
  {
   "cell_type": "code",
   "execution_count": 6,
   "id": "a9ed7236",
   "metadata": {},
   "outputs": [],
   "source": [
    "def user_who_like(x):\n",
    "    #output用\n",
    "    user_list = []\n",
    "    #用來計算每個人在list裡喜歡的個數\n",
    "    count = [0]*len(users)\n",
    "    #如果不是list就把x轉成list\n",
    "    if type(x) is not list:\n",
    "        temp = [x]\n",
    "        x = temp\n",
    "    #用來計算多少人喜歡\n",
    "    for i in range(len(x)):\n",
    "        for j in interests:\n",
    "            if x[i] == j[1]:\n",
    "                count[j[0]] = count[j[0]] + 1\n",
    "    #如果count中有和len(x)一樣的index就表示那個index所代表的人喜歡x裡所有的東西\n",
    "    for i in range(0,len(count)):\n",
    "        if count[i] == len(x):\n",
    "            user_list.append(users[i])\n",
    "    return  user_list            \n",
    "                "
   ]
  },
  {
   "cell_type": "code",
   "execution_count": 7,
   "id": "fc1c7616",
   "metadata": {},
   "outputs": [
    {
     "data": {
      "text/plain": [
       "['Sue', 'Chi', 'Clive']"
      ]
     },
     "execution_count": 7,
     "metadata": {},
     "output_type": "execute_result"
    }
   ],
   "source": [
    "user_who_like(\"Python\")"
   ]
  },
  {
   "cell_type": "code",
   "execution_count": 8,
   "id": "0101ab6e",
   "metadata": {},
   "outputs": [
    {
     "data": {
      "text/plain": [
       "['Hero', 'Klein']"
      ]
     },
     "execution_count": 8,
     "metadata": {},
     "output_type": "execute_result"
    }
   ],
   "source": [
    "user_who_like([\"Java\",\"Big Data\"])"
   ]
  },
  {
   "cell_type": "code",
   "execution_count": null,
   "id": "165be663",
   "metadata": {},
   "outputs": [],
   "source": []
  }
 ],
 "metadata": {
  "kernelspec": {
   "display_name": "Python 3 (ipykernel)",
   "language": "python",
   "name": "python3"
  },
  "language_info": {
   "codemirror_mode": {
    "name": "ipython",
    "version": 3
   },
   "file_extension": ".py",
   "mimetype": "text/x-python",
   "name": "python",
   "nbconvert_exporter": "python",
   "pygments_lexer": "ipython3",
   "version": "3.9.12"
  }
 },
 "nbformat": 4,
 "nbformat_minor": 5
}
