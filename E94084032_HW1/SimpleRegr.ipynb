{
 "cells": [
  {
   "cell_type": "code",
   "execution_count": 1,
   "id": "ff39026c",
   "metadata": {},
   "outputs": [],
   "source": [
    "import numpy as np\n",
    "import math\n",
    "from sklearn.linear_model import LinearRegression\n",
    "import matplotlib.pyplot as plt"
   ]
  },
  {
   "cell_type": "code",
   "execution_count": 2,
   "id": "3a045c52",
   "metadata": {},
   "outputs": [],
   "source": [
    "def least_squares_fit(X,Y):\n",
    "    #reshape X\n",
    "    X = X.reshape((-1,1))\n",
    "    #fit\n",
    "    model = LinearRegression().fit(X,Y)\n",
    "    #find beta0 and beta1\n",
    "    beta0 = model.intercept_\n",
    "    beta1 = model.coef_\n",
    "    \n",
    "    return beta0.round(1), beta1[0].round(1)\n",
    "    \n",
    "    \n"
   ]
  },
  {
   "cell_type": "code",
   "execution_count": 3,
   "id": "be11601d",
   "metadata": {},
   "outputs": [
    {
     "name": "stdout",
     "output_type": "stream",
     "text": [
      "From home-made linear regression model\n",
      "beta0 = 6.5\n",
      "beta1 = 2.8\n"
     ]
    }
   ],
   "source": [
    "X = np.array([1,2,3,4])\n",
    "Y = np.array([9,13,14,18])\n",
    "beta0, beta1 = least_squares_fit(X,Y)\n",
    "print(\"From home-made linear regression model\")\n",
    "print(\"beta0 =\", beta0)\n",
    "print(\"beta1 =\", beta1)"
   ]
  },
  {
   "cell_type": "code",
   "execution_count": 6,
   "id": "d7af9276",
   "metadata": {},
   "outputs": [
    {
     "data": {
      "text/plain": [
       "[]"
      ]
     },
     "execution_count": 6,
     "metadata": {},
     "output_type": "execute_result"
    },
    {
     "data": {
      "image/png": "[encoded data removed]",
      "text/plain": [
       "<Figure size 432x288 with 1 Axes>"
      ]
     },
     "metadata": {
      "needs_background": "light"
     },
     "output_type": "display_data"
    }
   ],
   "source": [
    "#畫圖\n",
    "plt.figure()\n",
    "x = np.linspace(1,4)\n",
    "plt.plot(x, beta1*x + beta0, linewidth = 3, markersize = 20, color = \"red\")\n",
    "plt.scatter(X, Y, color = \"blue\")\n",
    "#plt.plot(X, Y, color = \"blue\", marker = \".\", markersize = 20, linestyle = \"\")\n",
    "plt.plot()"
   ]
  },
  {
   "cell_type": "code",
   "execution_count": null,
   "id": "f7369ccc",
   "metadata": {},
   "outputs": [],
   "source": []
  }
 ],
 "metadata": {
  "kernelspec": {
   "display_name": "Python 3 (ipykernel)",
   "language": "python",
   "name": "python3"
  },
  "language_info": {
   "codemirror_mode": {
    "name": "ipython",
    "version": 3
   },
   "file_extension": ".py",
   "mimetype": "text/x-python",
   "name": "python",
   "nbconvert_exporter": "python",
   "pygments_lexer": "ipython3",
   "version": "3.9.12"
  }
 },
 "nbformat": 4,
 "nbformat_minor": 5
}
