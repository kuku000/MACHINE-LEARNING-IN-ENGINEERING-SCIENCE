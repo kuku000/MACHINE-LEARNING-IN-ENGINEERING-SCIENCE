{
 "cells": [
  {
   "cell_type": "code",
   "execution_count": 1,
   "id": "acb39c72",
   "metadata": {},
   "outputs": [],
   "source": [
    "import numpy as np\n",
    "import matplotlib.pyplot as plt\n",
    "\n",
    "linewidths = [0.5, 1.0, 2.0, 4.0]\n",
    "linestyles = ['-', '--', '-.', ':']\n",
    "markers = ['+', 'o', '*', 's', '.', '1', '2', '3', '4']\n",
    "markersizecolors = [(4, \"white\"), (8, \"red\"), (12, \"yellow\"), (16,\n",
    "\"lightgreen\")]\n"
   ]
  },
  {
   "cell_type": "code",
   "execution_count": 2,
   "id": "beed3806",
   "metadata": {
    "scrolled": true
   },
   "outputs": [
    {
     "data": {
      "image/png": "[encoded data removed]",
      "text/plain": [
       "<Figure size 1152x216 with 4 Axes>"
      ]
     },
     "metadata": {},
     "output_type": "display_data"
    }
   ],
   "source": [
    "x = np.linspace(-5, 5, 5)\n",
    "y = np.ones_like(x)\n",
    "def axes_settings(fig, ax, title, ymax):\n",
    "    ax.set_xticks([])\n",
    "    ax.set_yticks([])\n",
    "    ax.set_ylim(0, ymax+1)\n",
    "    ax.set_title(title)\n",
    "fig, axes = plt.subplots(1, 4, figsize=(16,3))\n",
    "\n",
    "# Line width\n",
    "linewidths = [0.5, 1.0, 2.0, 4.0]\n",
    "for n, linewidth in enumerate(linewidths):\n",
    "    axes[0].plot(x, y + n, color=\"blue\", linewidth=linewidth)\n",
    "axes_settings(fig, axes[0], \"linewidth\", len(linewidths))\n",
    "\n",
    "\n",
    "for n, linetype in enumerate(linestyles):\n",
    "    axes[1].plot(x, y + n, color=\"blue\", linestyle = linetype)\n",
    "axes_settings(fig, axes[1], \"linetypes\", len(linestyles))\n",
    "\n",
    "for n, marker in enumerate(markers):\n",
    "    axes[2].plot(x, y + n, color=\"blue\",linestyle = \"\", marker = marker)\n",
    "axes_settings(fig, axes[2], \"markers\", len(markers))\n",
    "\n",
    "for n, markersizecolor in enumerate(markersizecolors):\n",
    "    axes[3].plot(x, y + n, markersize = markersizecolor[0], color= markersizecolor[1],\n",
    "                 linestyle = \"\", marker = \".\",markeredgecolor='b',\n",
    "                 markeredgewidth= 1.5)\n",
    "axes_settings(fig, axes[3], \"markers\", len(markersizecolors))"
   ]
  },
  {
   "cell_type": "code",
   "execution_count": null,
   "id": "9be1011e",
   "metadata": {},
   "outputs": [],
   "source": []
  }
 ],
 "metadata": {
  "kernelspec": {
   "display_name": "Python 3 (ipykernel)",
   "language": "python",
   "name": "python3"
  },
  "language_info": {
   "codemirror_mode": {
    "name": "ipython",
    "version": 3
   },
   "file_extension": ".py",
   "mimetype": "text/x-python",
   "name": "python",
   "nbconvert_exporter": "python",
   "pygments_lexer": "ipython3",
   "version": "3.9.12"
  }
 },
 "nbformat": 4,
 "nbformat_minor": 5
}
