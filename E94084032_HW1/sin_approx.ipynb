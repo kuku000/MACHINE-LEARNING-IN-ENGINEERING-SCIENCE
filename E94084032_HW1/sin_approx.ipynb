{
 "cells": [
  {
   "cell_type": "code",
   "execution_count": 1,
   "id": "5267abdc",
   "metadata": {},
   "outputs": [],
   "source": [
    "import math\n",
    "\n",
    "def sin(x):\n",
    "    #25次\n",
    "    N = 25\n",
    "    sum = 0\n",
    "    #泰勒展開\n",
    "    for i in range(1,N+1):\n",
    "        sum += (-1)**(i - 1)*x**(2*i - 1)/math.factorial(2*i - 1)\n",
    "    return sum\n",
    "        "
   ]
  },
  {
   "cell_type": "code",
   "execution_count": 2,
   "id": "f34d7f94",
   "metadata": {},
   "outputs": [
    {
     "name": "stdout",
     "output_type": "stream",
     "text": [
      "sin(1.6) approximation is 0.9995736030415051\n"
     ]
    }
   ],
   "source": [
    "x = 1.6\n",
    "y = sin(x)\n",
    "print('sin({}) approximation is {}'.format(x,y))"
   ]
  },
  {
   "cell_type": "code",
   "execution_count": null,
   "id": "1a6ef2d5",
   "metadata": {},
   "outputs": [],
   "source": []
  }
 ],
 "metadata": {
  "kernelspec": {
   "display_name": "Python 3 (ipykernel)",
   "language": "python",
   "name": "python3"
  },
  "language_info": {
   "codemirror_mode": {
    "name": "ipython",
    "version": 3
   },
   "file_extension": ".py",
   "mimetype": "text/x-python",
   "name": "python",
   "nbconvert_exporter": "python",
   "pygments_lexer": "ipython3",
   "version": "3.9.12"
  }
 },
 "nbformat": 4,
 "nbformat_minor": 5
}
